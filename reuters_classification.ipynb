{
 "cells": [
  {
   "cell_type": "markdown",
   "metadata": {},
   "source": [
    "## Data import"
   ]
  },
  {
   "cell_type": "code",
   "execution_count": 3,
   "metadata": {},
   "outputs": [
    {
     "name": "stderr",
     "output_type": "stream",
     "text": [
      "Using TensorFlow backend.\n"
     ]
    }
   ],
   "source": [
    "import sklearn.datasets\n",
    "from sklearn import model_selection, preprocessing\n",
    "from sklearn.linear_model import LogisticRegression\n",
    "from sklearn.metrics import precision_score\n",
    "from sklearn.metrics import recall_score\n",
    "from sklearn.preprocessing import OneHotEncoder\n",
    "from matplotlib import pyplot as plt\n",
    "from keras.models import Sequential\n",
    "from keras.layers import Dense\n",
    "from scipy import sparse\n",
    "import numpy as np\n",
    "\n",
    "rcv1 = sklearn.datasets.fetch_rcv1()"
   ]
  },
  {
   "cell_type": "code",
   "execution_count": 6,
   "metadata": {},
   "outputs": [
    {
     "data": {
      "text/plain": [
       "(804414, 47236)"
      ]
     },
     "execution_count": 6,
     "metadata": {},
     "output_type": "execute_result"
    }
   ],
   "source": [
    "rcv1.data.shape"
   ]
  },
  {
   "cell_type": "markdown",
   "metadata": {},
   "source": [
    "## Data understanding"
   ]
  },
  {
   "cell_type": "markdown",
   "metadata": {},
   "source": [
    "800К documents are split into 103 categories.  \n",
    "Check the distribution of categories across documents"
   ]
  },
  {
   "cell_type": "code",
   "execution_count": 4,
   "metadata": {},
   "outputs": [],
   "source": [
    "res = rcv1.target\n",
    "\n",
    "cat_count = res.sum(axis=1)\n",
    "one_cat = res[cat_count==1]\n",
    "mult_cats = res[cat_count > 1]"
   ]
  },
  {
   "cell_type": "code",
   "execution_count": 87,
   "metadata": {},
   "outputs": [
    {
     "data": {
      "text/plain": [
       "(1, 779809)"
      ]
     },
     "execution_count": 87,
     "metadata": {},
     "output_type": "execute_result"
    }
   ],
   "source": [
    "one_cat.shape\n",
    "mult_cats.shape"
   ]
  },
  {
   "cell_type": "markdown",
   "metadata": {},
   "source": [
    "Check whether there is a prevalence of documents labeled with only 1 category.  Unfortunately not"
   ]
  },
  {
   "cell_type": "code",
   "execution_count": 5,
   "metadata": {},
   "outputs": [
    {
     "data": {
      "image/png": "[encoded data removed]",
      "text/plain": [
       "<Figure size 432x288 with 1 Axes>"
      ]
     },
     "metadata": {
      "needs_background": "light"
     },
     "output_type": "display_data"
    }
   ],
   "source": [
    "plt.bar(\"One category\", one_cat.shape[1])\n",
    "plt.bar(\"Multiple categories\", mult_cats.shape[1])\n",
    "plt.show()"
   ]
  },
  {
   "cell_type": "markdown",
   "metadata": {},
   "source": [
    "Documents labeled with 1 category only are in the minority.  Examine the most prevalent labels"
   ]
  },
  {
   "cell_type": "code",
   "execution_count": 4,
   "metadata": {},
   "outputs": [
    {
     "data": {
      "image/png": "[encoded data removed]",
      "text/plain": [
       "<Figure size 432x288 with 1 Axes>"
      ]
     },
     "metadata": {
      "needs_background": "light"
     },
     "output_type": "display_data"
    }
   ],
   "source": [
    "rcv1 = sklearn.datasets.fetch_rcv1()\n",
    "\n",
    "res = rcv1.target\n",
    "\n",
    "cat_sums = res.sum(axis=0).tolist()[0]\n",
    "cats = rcv1.target_names.reshape(1,103).tolist()[0]\n",
    "\n",
    "plt.bar(cats, cat_sums)\n",
    "\n",
    "plt.show()"
   ]
  },
  {
   "cell_type": "markdown",
   "metadata": {},
   "source": [
    "We see that there are 5 categories with more than 100K documents ascribed.  Let us focus on building separate binary models for each of these top 5 categories"
   ]
  },
  {
   "cell_type": "code",
   "execution_count": 196,
   "metadata": {},
   "outputs": [
    {
     "name": "stderr",
     "output_type": "stream",
     "text": [
      "/Users/roma_koulikov/anaconda3/lib/python3.7/site-packages/ipykernel_launcher.py:1: FutureWarning: Using a non-tuple sequence for multidimensional indexing is deprecated; use `arr[tuple(seq)]` instead of `arr[seq]`. In the future this will be interpreted as an array index, `arr[np.array(seq)]`, which will result either in an error or a different result.\n",
      "  \"\"\"Entry point for launching an IPython kernel.\n"
     ]
    },
    {
     "data": {
      "text/plain": [
       "array(['C15', 'CCAT', 'ECAT', 'GCAT', 'MCAT'], dtype=object)"
      ]
     },
     "execution_count": 196,
     "metadata": {},
     "output_type": "execute_result"
    }
   ],
   "source": [
    "biggest_cats = rcv1.target_names[(res.sum(axis=0)>100000).tolist()]"
   ]
  },
  {
   "cell_type": "markdown",
   "metadata": {},
   "source": [
    "## Data prep"
   ]
  },
  {
   "cell_type": "code",
   "execution_count": 5,
   "metadata": {},
   "outputs": [],
   "source": [
    "# split into train and test\n",
    "train_x, valid_x, train_y, valid_y = model_selection.train_test_split(rcv1.data, res)"
   ]
  },
  {
   "cell_type": "markdown",
   "metadata": {},
   "source": [
    "Create function to split the data according to the top n topics"
   ]
  },
  {
   "cell_type": "code",
   "execution_count": 9,
   "metadata": {},
   "outputs": [],
   "source": [
    "#\n",
    "def get_top_cat_indices(target_matrix, num_cats):\n",
    "    '''Returns column indices of the top n categories by number of hits'''\n",
    "    cat_counts = target_matrix.sum(axis=0)\n",
    "    #cat_counts = cat_counts.reshape((1,103)).tolist()[0]\n",
    "    cat_counts = cat_counts.reshape((103,))\n",
    "    \n",
    "    ind_temp = np.argsort(-cat_counts).tolist()[0]\n",
    "    \n",
    "    ind = [ind_temp[i] for i in range(num_cats)]\n",
    "    return ind\n",
    "\n",
    "def prepare_data(x, y, top_cat_indices, sample_size):\n",
    "    '''Returns list with train x and train y for categories specified by top_cat_indices'''\n",
    "    res_lst = []\n",
    "\n",
    "    for i in top_cat_indices:\n",
    "\n",
    "        # get column of indices with relevant cat\n",
    "        temp = y.tocsc()[:, i]\n",
    "        \n",
    "        bool_cat = np.where(temp.sum(axis=1)>0)[0]\n",
    "        bool_noncat = np.where(temp.sum(axis=1)==0)[0]\n",
    "        \n",
    "        # all docs with labeled category\n",
    "        cat_present = x.tocsr()[bool_cat,:]\n",
    "        # all docs other than labelled category\n",
    "        cat_notpresent = x.tocsr()[bool_noncat,:]\n",
    "        # get indices equal to 1/2 of sample size\n",
    "        idx_cat = np.random.randint(cat_present.shape[0], size=int(sample_size/2))\n",
    "        idx_nocat = np.random.randint(cat_notpresent.shape[0], size=int(sample_size/2))\n",
    "        # concatenate the ids\n",
    "        \n",
    "        sampled_x_pos = cat_present.tocsr()[idx_cat,:]\n",
    "        sampled_x_neg = cat_notpresent.tocsr()[idx_nocat,:]\n",
    "        sampled_x = sparse.vstack((sampled_x_pos, sampled_x_neg))\n",
    "        \n",
    "        sampled_y_pos = temp.tocsr()[bool_cat][idx_cat,:]\n",
    "        sampled_y_neg = temp.tocsr()[bool_noncat][idx_nocat,:]            \n",
    "        sampled_y = sparse.vstack((sampled_y_pos, sampled_y_neg))\n",
    "        \n",
    "        onehot_encoder = OneHotEncoder(sparse=False, categories='auto')\n",
    "        sampled_y_nn = onehot_encoder.fit_transform(sampled_y.toarray())\n",
    "        \n",
    "        res_lst.append((sampled_x, sampled_y, sampled_y_nn))\n",
    "        \n",
    "    return res_lst\n",
    "\n",
    "def prep_validation_cats(y, top_cat_indices):\n",
    "    '''Returns list with arrays to be used as y argument for comparing with results.\n",
    "        Leaves only the relevant category from the 103 that are in the target'''\n",
    "    res_lst = []\n",
    "    res_lst_nn = []\n",
    "    \n",
    "    for i in top_cat_indices:\n",
    "        temp = y.tocsc()[:, i]\n",
    "        res_lst.append(temp)\n",
    "        onehot_encoder = OneHotEncoder(sparse=False, categories='auto')\n",
    "        temp_nn = onehot_encoder.fit_transform(temp.toarray())\n",
    "        res_lst_nn.append(temp_nn)\n",
    "    return res_lst, res_lst_nn\n",
    "\n",
    "def build_log_models(input_list, cat_names):\n",
    "    '''Builds logistic regression models from list containing tuples of x and y variables for every category being predicted'''\n",
    "    model_list = []\n",
    "    for i in range(len(input_list)):\n",
    "        x, y, z = input_list[i]\n",
    "        cat = cat_names[i]\n",
    "        print(\"Building models for category {}\".format(cat))\n",
    "        model = LogisticRegression().fit(x, y.A)\n",
    "        model_list.append(model)\n",
    "    return(model_list)\n",
    "\n",
    "def predict_data(model_list, test_y):\n",
    "    '''Predicts using list of models and outputs tuple of precision and recall lists for every model'''\n",
    "    prec_lst = []\n",
    "    rec_lst = []\n",
    "    for i in range(len(model_res)):\n",
    "        predictions = model_list[i].predict(valid_x)\n",
    "        precision = precision_score(test_y[i].A, predictions)\n",
    "        prec_lst.append(precision)\n",
    "        \n",
    "        recall = recall_score(test_y[i].A, predictions)\n",
    "        rec_lst.append(recall)\n",
    "        \n",
    "    return prec_lst, rec_lst"
   ]
  },
  {
   "cell_type": "markdown",
   "metadata": {},
   "source": [
    "## Model-building"
   ]
  },
  {
   "cell_type": "code",
   "execution_count": 10,
   "metadata": {},
   "outputs": [
    {
     "name": "stdout",
     "output_type": "stream",
     "text": [
      "Building models for category CCAT\n"
     ]
    },
    {
     "name": "stderr",
     "output_type": "stream",
     "text": [
      "/Users/roma_koulikov/anaconda3/lib/python3.7/site-packages/sklearn/linear_model/logistic.py:433: FutureWarning: Default solver will be changed to 'lbfgs' in 0.22. Specify a solver to silence this warning.\n",
      "  FutureWarning)\n",
      "/Users/roma_koulikov/anaconda3/lib/python3.7/site-packages/sklearn/utils/validation.py:761: DataConversionWarning: A column-vector y was passed when a 1d array was expected. Please change the shape of y to (n_samples, ), for example using ravel().\n",
      "  y = column_or_1d(y, warn=True)\n"
     ]
    },
    {
     "name": "stdout",
     "output_type": "stream",
     "text": [
      "Building models for category GCAT\n",
      "Building models for category MCAT\n",
      "Building models for category C15\n",
      "Building models for category ECAT\n"
     ]
    }
   ],
   "source": [
    "ind = get_top_cat_indices(rcv1.target, 5)\n",
    "train_res = prepare_data(train_x, train_y, ind, 20000)\n",
    "val_res = prep_validation_cats(valid_y, ind)\n",
    "\n",
    "model_res = build_log_models(train_res, rcv1.target_names[ind])"
   ]
  },
  {
   "cell_type": "markdown",
   "metadata": {},
   "source": [
    "## Predict on unseen data and examine stats"
   ]
  },
  {
   "cell_type": "code",
   "execution_count": 768,
   "metadata": {},
   "outputs": [],
   "source": [
    "precision_res, recall_res = predict_data(model_res, val_res)"
   ]
  },
  {
   "cell_type": "markdown",
   "metadata": {},
   "source": [
    "### Precision / recall of top 5 prevalent categories"
   ]
  },
  {
   "cell_type": "markdown",
   "metadata": {},
   "source": [
    "Precision drops off by quite a bit for categories 3-5, but recall hovers at 92% mark"
   ]
  },
  {
   "cell_type": "code",
   "execution_count": 784,
   "metadata": {},
   "outputs": [
    {
     "data": {
      "image/png": "[encoded data removed]",
      "text/plain": [
       "<Figure size 432x288 with 1 Axes>"
      ]
     },
     "metadata": {
      "needs_background": "light"
     },
     "output_type": "display_data"
    }
   ],
   "source": [
    "plt.plot(rcv1.target_names[ind], precision_res, label = 'Precision')\n",
    "plt.plot(rcv1.target_names[ind], recall_res, label = 'Recall')\n",
    "plt.title(\"Stats for most prevalent categories\")\n",
    "plt.plot()\n",
    "plt.legend()\n",
    "plt.show()"
   ]
  },
  {
   "cell_type": "markdown",
   "metadata": {},
   "source": [
    "### Check natural precision in these 5 categories"
   ]
  },
  {
   "cell_type": "markdown",
   "metadata": {},
   "source": [
    "Natural precision is the precision we would get if we labeled all records as belonging to the category"
   ]
  },
  {
   "cell_type": "code",
   "execution_count": 781,
   "metadata": {},
   "outputs": [
    {
     "data": {
      "text/plain": [
       "Text(0.5, 1.0, 'Natural precision for most prevalent categories')"
      ]
     },
     "execution_count": 781,
     "metadata": {},
     "output_type": "execute_result"
    },
    {
     "data": {
      "image/png": "[encoded data removed]",
      "text/plain": [
       "<Figure size 432x288 with 1 Axes>"
      ]
     },
     "metadata": {
      "needs_background": "light"
     },
     "output_type": "display_data"
    }
   ],
   "source": [
    "nat_prec = [i.nnz/i.shape[0] for i in val_res]\n",
    "plt.bar(rcv1.target_names[ind], nat_prec)\n",
    "plt.title(\"Natural precision for most prevalent categories\")"
   ]
  },
  {
   "cell_type": "markdown",
   "metadata": {},
   "source": [
    "### Lift over natural precision "
   ]
  },
  {
   "cell_type": "markdown",
   "metadata": {},
   "source": [
    "Interestingly enough, we see that the lift over natural precision actually increases as we go from the \n",
    "most prevalent to less prevalent categories"
   ]
  },
  {
   "cell_type": "code",
   "execution_count": 758,
   "metadata": {},
   "outputs": [],
   "source": [
    "lift = [prediction_res[i]/nat_prec[i] for i in range(len(prediction_res))]"
   ]
  },
  {
   "cell_type": "code",
   "execution_count": 759,
   "metadata": {},
   "outputs": [
    {
     "data": {
      "text/plain": [
       "Text(0.5, 1.0, 'Lift over natural precision for most prevalent categories')"
      ]
     },
     "execution_count": 759,
     "metadata": {},
     "output_type": "execute_result"
    },
    {
     "data": {
      "image/png": "[encoded data removed]",
      "text/plain": [
       "<Figure size 432x288 with 1 Axes>"
      ]
     },
     "metadata": {
      "needs_background": "light"
     },
     "output_type": "display_data"
    }
   ],
   "source": [
    "plt.bar(rcv1.target_names[ind], lift)\n",
    "plt.title(\"Lift over natural precision for most prevalent categories\")"
   ]
  },
  {
   "cell_type": "markdown",
   "metadata": {},
   "source": [
    "## Thoughts on refinement"
   ]
  },
  {
   "cell_type": "markdown",
   "metadata": {},
   "source": [
    "Potential for improvement:\n",
    "    - Build models on cross-validated data\n",
    "    - Experiment with different algorithms and tuning (ex. Naive Bayes, Random Forest, XGBoost).  I did build an an analogous model using a 3-layer NN.  But, Jupyter notebook kept crashing every time I attempted to run it.  Thus, I put it into a separate script.  Alas, the metrics are very similar to what we see for logistic regression.  Check the nn_res.png chart in the parent directory.  The code is in main.py\n",
    "    - Build model on word embeddings.  This, however, would require a different version of the RCV! dataset, as the scikit-learn version has already been pre-processed into a tfidf."
   ]
  }
 ],
 "metadata": {
  "kernelspec": {
   "display_name": "Python 3",
   "language": "python",
   "name": "python3"
  },
  "language_info": {
   "codemirror_mode": {
    "name": "ipython",
    "version": 3
   },
   "file_extension": ".py",
   "mimetype": "text/x-python",
   "name": "python",
   "nbconvert_exporter": "python",
   "pygments_lexer": "ipython3",
   "version": "3.7.1"
  }
 },
 "nbformat": 4,
 "nbformat_minor": 2
}
